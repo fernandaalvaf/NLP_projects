{
 "cells": [
  {
   "cell_type": "code",
   "execution_count": 1,
   "metadata": {},
   "outputs": [
    {
     "data": {
      "text/plain": [
       "['..\\\\bookscraper\\\\output\\\\emma1.txt',\n",
       " '..\\\\bookscraper\\\\output\\\\emma7.txt',\n",
       " '..\\\\bookscraper\\\\output\\\\gevoelenverstanddutch1.txt',\n",
       " '..\\\\bookscraper\\\\output\\\\ladysusan12.txt',\n",
       " '..\\\\bookscraper\\\\output\\\\ladysusan22.txt',\n",
       " '..\\\\bookscraper\\\\output\\\\loveandfreindshipsic10.txt',\n",
       " '..\\\\bookscraper\\\\output\\\\loveandfreindshipsic23.txt',\n",
       " '..\\\\bookscraper\\\\output\\\\mansfieldpark14.txt',\n",
       " '..\\\\bookscraper\\\\output\\\\mansfieldpark5.txt',\n",
       " '..\\\\bookscraper\\\\output\\\\northangerabbey16.txt',\n",
       " '..\\\\bookscraper\\\\output\\\\northangerabbey4.txt',\n",
       " '..\\\\bookscraper\\\\output\\\\oldfriendsandnewfanciesanimaginarysequeltothenovelsofjaneausten24.txt',\n",
       " '..\\\\bookscraper\\\\output\\\\persuasion17.txt',\n",
       " '..\\\\bookscraper\\\\output\\\\persuasion3.txt',\n",
       " '..\\\\bookscraper\\\\output\\\\persuasionfrench0.txt',\n",
       " '..\\\\bookscraper\\\\output\\\\prideandprejudice0.txt',\n",
       " '..\\\\bookscraper\\\\output\\\\prideandprejudice11.txt',\n",
       " '..\\\\bookscraper\\\\output\\\\prideandprejudice13.txt',\n",
       " '..\\\\bookscraper\\\\output\\\\prideandprejudice15.txt',\n",
       " '..\\\\bookscraper\\\\output\\\\prideandprejudice6.txt',\n",
       " '..\\\\bookscraper\\\\output\\\\prideandprejudiceaplayfoundedonjaneaustensnovel20.txt',\n",
       " '..\\\\bookscraper\\\\output\\\\raisonetsensibilitéoulesdeuxmanièresdaimertome1french2.txt',\n",
       " '..\\\\bookscraper\\\\output\\\\raisonetsensibilitéoulesdeuxmanièresdaimertome2french6.txt',\n",
       " '..\\\\bookscraper\\\\output\\\\raisonetsensibilitéoulesdeuxmanièresdaimertome3french3.txt',\n",
       " '..\\\\bookscraper\\\\output\\\\raisonetsensibilitéoulesdeuxmanièresdaimertome4french5.txt',\n",
       " '..\\\\bookscraper\\\\output\\\\senseandsensibility19.txt',\n",
       " '..\\\\bookscraper\\\\output\\\\senseandsensibility2.txt',\n",
       " '..\\\\bookscraper\\\\output\\\\senseandsensibility9.txt',\n",
       " '..\\\\bookscraper\\\\output\\\\thecompleteprojectgutenbergworksofjaneausten18.txt',\n",
       " '..\\\\bookscraper\\\\output\\\\thelettersofjaneausten8.txt',\n",
       " '..\\\\bookscraper\\\\output\\\\thewatsonsbyjaneaustenconcludedbyloulton21.txt',\n",
       " '..\\\\bookscraper\\\\output\\\\ylpeysjaennakkoluulofinnish4.txt']"
      ]
     },
     "execution_count": 1,
     "metadata": {},
     "output_type": "execute_result"
    }
   ],
   "source": [
    "from pathlib import Path\n",
    "\n",
    "# define path\n",
    "folder = Path('../bookscraper/output')\n",
    "\n",
    "# list .txt files\n",
    "files = list(folder.glob('*.txt'))\n",
    "\n",
    "# cast as strings\n",
    "files = [str(file) for file in files]\n",
    "files"
   ]
  },
  {
   "cell_type": "markdown",
   "metadata": {},
   "source": [
    "## Load the contents of each book into Python"
   ]
  },
  {
   "cell_type": "code",
   "execution_count": 2,
   "metadata": {},
   "outputs": [
    {
     "data": {
      "text/plain": [
       "[828715,\n",
       " 406693,\n",
       " 687477,\n",
       " 2956,\n",
       " 186236,\n",
       " 634337,\n",
       " 411058,\n",
       " 121415,\n",
       " 653378,\n",
       " 587296,\n",
       " 651647,\n",
       " 177710,\n",
       " 441438,\n",
       " 4117529,\n",
       " 4074,\n",
       " 838137,\n",
       " 144355]"
      ]
     },
     "execution_count": 2,
     "metadata": {},
     "output_type": "execute_result"
    }
   ],
   "source": [
    "import re\n",
    "import pandas as pd\n",
    "\n",
    "# check which files are in English\n",
    "austen_files = pd.read_csv(Path('../bookscraper/booksdata.csv'))\n",
    "austen_files = austen_files[austen_files['language'].str.contains(\"English\")]\n",
    "english_files = austen_files['file_name'].to_list()\n",
    "\n",
    "# create containers for texts and titles\n",
    "texts = []\n",
    "titles = []\n",
    "\n",
    "# extract content and store in containers\n",
    "\n",
    "for file_name in set(english_files):\n",
    "    # open and read file\n",
    "    file = Path(\"..\\\\bookscraper\\\\output\\\\\"+file_name)\n",
    "    f = open(file,encoding='utf-8-sig')\n",
    "    txt = f.read()    \n",
    "    if txt:\n",
    "        txt = re.sub(r'[^A-Za-z0-9\\s]','',txt)\n",
    "        txt = txt.replace('\\n','')\n",
    "        # define patterns to remove header and footer from PG\n",
    "        pattern = r'(START OF THE PROJECT GUTENBERG EBOOK)(.*)(END OF THE PROJECT GUTENBERG EBOOK)'\n",
    "        \n",
    "        # clean text\n",
    "        match = re.search(pattern, txt)\n",
    "\n",
    "        if match:\n",
    "            txt = match.group(2) \n",
    "\n",
    "        texts.append(txt)\n",
    "        title = file_name.replace('.txt','')\n",
    "        titles.append(title)\n",
    "\n",
    " \n",
    "# print length of each text\n",
    "[len(t) for t in texts]"
   ]
  },
  {
   "cell_type": "markdown",
   "metadata": {},
   "source": [
    "## Find and store index of Pride and Prejudice 0"
   ]
  },
  {
   "cell_type": "code",
   "execution_count": 3,
   "metadata": {},
   "outputs": [
    {
     "name": "stdout",
     "output_type": "stream",
     "text": [
      "2\n"
     ]
    }
   ],
   "source": [
    "# find the index of \"PrideandPrejudice0\" and save it in ppi\n",
    "for i in range(len(titles)):\n",
    "    if \"PrideandPrejudice0\" in titles[i]:\n",
    "        ppi = i\n",
    "\n",
    "print(ppi)        "
   ]
  },
  {
   "cell_type": "markdown",
   "metadata": {},
   "source": [
    "## Tokenize corpus"
   ]
  },
  {
   "cell_type": "code",
   "execution_count": 4,
   "metadata": {},
   "outputs": [
    {
     "name": "stdout",
     "output_type": "stream",
     "text": [
      "['pride', 'prejudice', 'illustration', 'george', 'allen', 'publisher', '156', 'charing', 'cross', 'road', 'london', 'ruskin', 'house', 'illustration', 'reading', 'janes', 'letters', 'chap', '34', 'pride', 'prejudice']\n"
     ]
    }
   ],
   "source": [
    "# convert to lowercase\n",
    "txts_lower_case = [txt.lower() for txt in texts]\n",
    "\n",
    "# tokenize texts\n",
    "txts_split = [txt.split() for txt in txts_lower_case]\n",
    "\n",
    "# remove stopwords\n",
    "from nltk.corpus import stopwords\n",
    "\n",
    "stp_words = set(stopwords.words('english'))\n",
    "txts = [[word for word in txt if word not in stp_words] for txt in txts_split]\n",
    "\n",
    "# print first 20 tokens\n",
    "print(txts[ppi][:21])\n"
   ]
  },
  {
   "cell_type": "markdown",
   "metadata": {},
   "source": [
    "## Stem the tokenized corpus"
   ]
  },
  {
   "cell_type": "code",
   "execution_count": 5,
   "metadata": {},
   "outputs": [
    {
     "name": "stdout",
     "output_type": "stream",
     "text": [
      "['pride', 'prejudic', 'illustr', 'georg', 'allen', 'publish', '156', 'chare', 'cross', 'road', 'london', 'ruskin', 'hous', 'illustr', 'read', 'jane', 'letter', 'chap', '34', 'pride', 'prejudic']\n"
     ]
    }
   ],
   "source": [
    "from nltk.stem import PorterStemmer\n",
    "\n",
    "# initialize the class and apply to each word of each text\n",
    "ps = PorterStemmer()\n",
    "txts_stem = [[ps.stem(word) for word in txt] for txt in txts]\n",
    "\n",
    "# print first 20 stemmed tokens of Pride and Prejudice 0\n",
    "print(txts_stem[ppi][:21])\n"
   ]
  },
  {
   "cell_type": "markdown",
   "metadata": {},
   "source": [
    "## Build BoW model"
   ]
  },
  {
   "cell_type": "code",
   "execution_count": 6,
   "metadata": {},
   "outputs": [
    {
     "name": "stdout",
     "output_type": "stream",
     "text": [
      "[(18, 2), (19, 6), (20, 49), (25, 1), (27, 8)]\n"
     ]
    }
   ],
   "source": [
    "import gensim\n",
    "\n",
    "# create a dictionary from the stemmed tokens\n",
    "dict = gensim.corpora.Dictionary(txts_stem)\n",
    "\n",
    "# create BoW model for each text\n",
    "bows = [dict.doc2bow(text) for text in txts_stem]\n",
    "\n",
    "# print the first 5 elements of the BoW Pride and Prejudice 0 model\n",
    "print(bows[ppi][:5])"
   ]
  },
  {
   "cell_type": "code",
   "execution_count": 7,
   "metadata": {},
   "outputs": [
    {
     "data": {
      "text/html": [
       "<div>\n",
       "<style scoped>\n",
       "    .dataframe tbody tr th:only-of-type {\n",
       "        vertical-align: middle;\n",
       "    }\n",
       "\n",
       "    .dataframe tbody tr th {\n",
       "        vertical-align: top;\n",
       "    }\n",
       "\n",
       "    .dataframe thead th {\n",
       "        text-align: right;\n",
       "    }\n",
       "</style>\n",
       "<table border=\"1\" class=\"dataframe\">\n",
       "  <thead>\n",
       "    <tr style=\"text-align: right;\">\n",
       "      <th></th>\n",
       "      <th>index</th>\n",
       "      <th>occurrences</th>\n",
       "      <th>token</th>\n",
       "    </tr>\n",
       "  </thead>\n",
       "  <tbody>\n",
       "    <tr>\n",
       "      <th>2334</th>\n",
       "      <td>9030</td>\n",
       "      <td>911</td>\n",
       "      <td>mr</td>\n",
       "    </tr>\n",
       "    <tr>\n",
       "      <th>799</th>\n",
       "      <td>3070</td>\n",
       "      <td>459</td>\n",
       "      <td>could</td>\n",
       "    </tr>\n",
       "    <tr>\n",
       "      <th>1085</th>\n",
       "      <td>4033</td>\n",
       "      <td>404</td>\n",
       "      <td>elizabeth</td>\n",
       "    </tr>\n",
       "    <tr>\n",
       "      <th>4116</th>\n",
       "      <td>16031</td>\n",
       "      <td>402</td>\n",
       "      <td>would</td>\n",
       "    </tr>\n",
       "    <tr>\n",
       "      <th>3019</th>\n",
       "      <td>11718</td>\n",
       "      <td>355</td>\n",
       "      <td>said</td>\n",
       "    </tr>\n",
       "    <tr>\n",
       "      <th>4327</th>\n",
       "      <td>17880</td>\n",
       "      <td>346</td>\n",
       "      <td>darci</td>\n",
       "    </tr>\n",
       "    <tr>\n",
       "      <th>4262</th>\n",
       "      <td>17218</td>\n",
       "      <td>289</td>\n",
       "      <td>bennet</td>\n",
       "    </tr>\n",
       "    <tr>\n",
       "      <th>2335</th>\n",
       "      <td>9077</td>\n",
       "      <td>283</td>\n",
       "      <td>much</td>\n",
       "    </tr>\n",
       "    <tr>\n",
       "      <th>2346</th>\n",
       "      <td>9142</td>\n",
       "      <td>275</td>\n",
       "      <td>must</td>\n",
       "    </tr>\n",
       "    <tr>\n",
       "      <th>2288</th>\n",
       "      <td>8810</td>\n",
       "      <td>254</td>\n",
       "      <td>miss</td>\n",
       "    </tr>\n",
       "  </tbody>\n",
       "</table>\n",
       "</div>"
      ],
      "text/plain": [
       "      index  occurrences      token\n",
       "2334   9030          911         mr\n",
       "799    3070          459      could\n",
       "1085   4033          404  elizabeth\n",
       "4116  16031          402      would\n",
       "3019  11718          355       said\n",
       "4327  17880          346      darci\n",
       "4262  17218          289     bennet\n",
       "2335   9077          283       much\n",
       "2346   9142          275       must\n",
       "2288   8810          254       miss"
      ]
     },
     "execution_count": 7,
     "metadata": {},
     "output_type": "execute_result"
    }
   ],
   "source": [
    "# creade BoW dataframe for Pride and Prejudice\n",
    "df_bow_pp = pd.DataFrame(bows[ppi])\n",
    "\n",
    "# add column names\n",
    "df_bow_pp = df_bow_pp.rename(columns={0:'index',\n",
    "                                      1:'occurrences'})\n",
    "\n",
    "# add token column\n",
    "df_bow_pp['token'] = [dict[id] for id in df_bow_pp['index']]\n",
    "\n",
    "# sort by occurrence and show first 10 more frequent tokens\n",
    "df_bow_pp.sort_values(by='occurrences', ascending=False)[:10]"
   ]
  },
  {
   "cell_type": "markdown",
   "metadata": {},
   "source": [
    "### tf-idf model"
   ]
  },
  {
   "cell_type": "code",
   "execution_count": 8,
   "metadata": {},
   "outputs": [
    {
     "data": {
      "text/plain": [
       "[(18, 0.2231410967346733),\n",
       " (19, 0.1724340989936671),\n",
       " (20, 0.6570252613021719),\n",
       " (25, 0.02873901649894452),\n",
       " (27, 0.3730836446882522),\n",
       " (29, 0.5116139825585453),\n",
       " (31, 0.19011289203888157),\n",
       " (48, 0.05684599806206058),\n",
       " (51, 0.17053799418618174),\n",
       " (52, 0.13626645821472239)]"
      ]
     },
     "execution_count": 8,
     "metadata": {},
     "output_type": "execute_result"
    }
   ],
   "source": [
    "from gensim.models import TfidfModel\n",
    "\n",
    "# generate the model\n",
    "\n",
    "model = TfidfModel(bows)\n",
    "\n",
    "# print the model for Pride and Prejudice\n",
    "model[bows[ppi][:10]]"
   ]
  },
  {
   "cell_type": "code",
   "execution_count": 9,
   "metadata": {},
   "outputs": [
    {
     "data": {
      "text/html": [
       "<div>\n",
       "<style scoped>\n",
       "    .dataframe tbody tr th:only-of-type {\n",
       "        vertical-align: middle;\n",
       "    }\n",
       "\n",
       "    .dataframe tbody tr th {\n",
       "        vertical-align: top;\n",
       "    }\n",
       "\n",
       "    .dataframe thead th {\n",
       "        text-align: right;\n",
       "    }\n",
       "</style>\n",
       "<table border=\"1\" class=\"dataframe\">\n",
       "  <thead>\n",
       "    <tr style=\"text-align: right;\">\n",
       "      <th></th>\n",
       "      <th>id</th>\n",
       "      <th>score</th>\n",
       "      <th>token</th>\n",
       "    </tr>\n",
       "  </thead>\n",
       "  <tbody>\n",
       "    <tr>\n",
       "      <th>4302</th>\n",
       "      <td>17880</td>\n",
       "      <td>0.437475</td>\n",
       "      <td>darci</td>\n",
       "    </tr>\n",
       "    <tr>\n",
       "      <th>4237</th>\n",
       "      <td>17218</td>\n",
       "      <td>0.365405</td>\n",
       "      <td>bennet</td>\n",
       "    </tr>\n",
       "    <tr>\n",
       "      <th>4245</th>\n",
       "      <td>17278</td>\n",
       "      <td>0.317359</td>\n",
       "      <td>bingley</td>\n",
       "    </tr>\n",
       "    <tr>\n",
       "      <th>12572</th>\n",
       "      <td>30716</td>\n",
       "      <td>0.270295</td>\n",
       "      <td>wickham</td>\n",
       "    </tr>\n",
       "    <tr>\n",
       "      <th>8963</th>\n",
       "      <td>27107</td>\n",
       "      <td>0.238906</td>\n",
       "      <td>lydia</td>\n",
       "    </tr>\n",
       "    <tr>\n",
       "      <th>1082</th>\n",
       "      <td>4033</td>\n",
       "      <td>0.200516</td>\n",
       "      <td>elizabeth</td>\n",
       "    </tr>\n",
       "    <tr>\n",
       "      <th>6267</th>\n",
       "      <td>24411</td>\n",
       "      <td>0.197377</td>\n",
       "      <td>collin</td>\n",
       "    </tr>\n",
       "    <tr>\n",
       "      <th>2324</th>\n",
       "      <td>9030</td>\n",
       "      <td>0.162480</td>\n",
       "      <td>mr</td>\n",
       "    </tr>\n",
       "    <tr>\n",
       "      <th>4803</th>\n",
       "      <td>22947</td>\n",
       "      <td>0.145341</td>\n",
       "      <td>1894</td>\n",
       "    </tr>\n",
       "    <tr>\n",
       "      <th>4370</th>\n",
       "      <td>18675</td>\n",
       "      <td>0.126143</td>\n",
       "      <td>gardin</td>\n",
       "    </tr>\n",
       "  </tbody>\n",
       "</table>\n",
       "</div>"
      ],
      "text/plain": [
       "          id     score      token\n",
       "4302   17880  0.437475      darci\n",
       "4237   17218  0.365405     bennet\n",
       "4245   17278  0.317359    bingley\n",
       "12572  30716  0.270295    wickham\n",
       "8963   27107  0.238906      lydia\n",
       "1082    4033  0.200516  elizabeth\n",
       "6267   24411  0.197377     collin\n",
       "2324    9030  0.162480         mr\n",
       "4803   22947  0.145341       1894\n",
       "4370   18675  0.126143     gardin"
      ]
     },
     "execution_count": 9,
     "metadata": {},
     "output_type": "execute_result"
    }
   ],
   "source": [
    "# convert model into DataFrame\n",
    "\n",
    "df_tfidf_pp = pd.DataFrame(model[bows[ppi]])\n",
    "\n",
    "# name columns\n",
    "df_tfidf_pp = df_tfidf_pp.rename(columns={0:'id',\n",
    "                                           1:'score'})\n",
    "\n",
    "# add tokens\n",
    "\n",
    "df_tfidf_pp['token'] = [dict[id] for id in df_tfidf_pp['id']]\n",
    "\n",
    "# sort and display first 10 values\n",
    "df_tfidf_pp.sort_values(by='score', ascending=False)[:10]"
   ]
  },
  {
   "cell_type": "markdown",
   "metadata": {},
   "source": [
    "### Compute distance between texts"
   ]
  },
  {
   "cell_type": "code",
   "execution_count": 10,
   "metadata": {},
   "outputs": [
    {
     "data": {
      "text/html": [
       "<div>\n",
       "<style scoped>\n",
       "    .dataframe tbody tr th:only-of-type {\n",
       "        vertical-align: middle;\n",
       "    }\n",
       "\n",
       "    .dataframe tbody tr th {\n",
       "        vertical-align: top;\n",
       "    }\n",
       "\n",
       "    .dataframe thead th {\n",
       "        text-align: right;\n",
       "    }\n",
       "</style>\n",
       "<table border=\"1\" class=\"dataframe\">\n",
       "  <thead>\n",
       "    <tr style=\"text-align: right;\">\n",
       "      <th></th>\n",
       "      <th>Emma1</th>\n",
       "      <th>TheLettersofJaneAusten8</th>\n",
       "      <th>PrideandPrejudice0</th>\n",
       "      <th>Emma7</th>\n",
       "      <th>TheWatsonsByJaneAustenConcludedbyLOulton21</th>\n",
       "      <th>SenseandSensibility2</th>\n",
       "      <th>NorthangerAbbey4</th>\n",
       "      <th>LadySusan12</th>\n",
       "      <th>PrideandPrejudice6</th>\n",
       "      <th>OldFriendsandNewFanciesAnImaginarySequeltotheNovelsofJaneAusten24</th>\n",
       "      <th>SenseandSensibility19</th>\n",
       "      <th>LoveandFreindshipsic10</th>\n",
       "      <th>Persuasion3</th>\n",
       "      <th>TheCompleteProjectGutenbergWorksofJaneAusten18</th>\n",
       "      <th>SenseandSensibility9</th>\n",
       "      <th>MansfieldPark5</th>\n",
       "      <th>PrideandPrejudiceaplayfoundedonJaneAustensnovel20</th>\n",
       "    </tr>\n",
       "  </thead>\n",
       "  <tbody>\n",
       "    <tr>\n",
       "      <th>Emma1</th>\n",
       "      <td>1.000001</td>\n",
       "      <td>0.780336</td>\n",
       "      <td>0.835448</td>\n",
       "      <td>0.012137</td>\n",
       "      <td>0.779244</td>\n",
       "      <td>0.793158</td>\n",
       "      <td>0.783473</td>\n",
       "      <td>0.693095</td>\n",
       "      <td>0.840913</td>\n",
       "      <td>0.804997</td>\n",
       "      <td>0.794122</td>\n",
       "      <td>0.680979</td>\n",
       "      <td>0.788490</td>\n",
       "      <td>0.926976</td>\n",
       "      <td>0.031162</td>\n",
       "      <td>0.803239</td>\n",
       "      <td>0.700511</td>\n",
       "    </tr>\n",
       "    <tr>\n",
       "      <th>TheLettersofJaneAusten8</th>\n",
       "      <td>0.780336</td>\n",
       "      <td>1.000000</td>\n",
       "      <td>0.780976</td>\n",
       "      <td>0.023385</td>\n",
       "      <td>0.693522</td>\n",
       "      <td>0.738540</td>\n",
       "      <td>0.748404</td>\n",
       "      <td>0.699407</td>\n",
       "      <td>0.775488</td>\n",
       "      <td>0.742972</td>\n",
       "      <td>0.741267</td>\n",
       "      <td>0.717909</td>\n",
       "      <td>0.736748</td>\n",
       "      <td>0.838947</td>\n",
       "      <td>0.025284</td>\n",
       "      <td>0.772750</td>\n",
       "      <td>0.671882</td>\n",
       "    </tr>\n",
       "    <tr>\n",
       "      <th>PrideandPrejudice0</th>\n",
       "      <td>0.835448</td>\n",
       "      <td>0.780976</td>\n",
       "      <td>1.000000</td>\n",
       "      <td>0.011635</td>\n",
       "      <td>0.738438</td>\n",
       "      <td>0.808050</td>\n",
       "      <td>0.797822</td>\n",
       "      <td>0.738502</td>\n",
       "      <td>0.994754</td>\n",
       "      <td>0.872431</td>\n",
       "      <td>0.808913</td>\n",
       "      <td>0.728774</td>\n",
       "      <td>0.798141</td>\n",
       "      <td>0.922921</td>\n",
       "      <td>0.029156</td>\n",
       "      <td>0.802615</td>\n",
       "      <td>0.851785</td>\n",
       "    </tr>\n",
       "    <tr>\n",
       "      <th>Emma7</th>\n",
       "      <td>0.012137</td>\n",
       "      <td>0.023385</td>\n",
       "      <td>0.011635</td>\n",
       "      <td>1.000000</td>\n",
       "      <td>0.013597</td>\n",
       "      <td>0.010794</td>\n",
       "      <td>0.014541</td>\n",
       "      <td>0.012787</td>\n",
       "      <td>0.011163</td>\n",
       "      <td>0.010662</td>\n",
       "      <td>0.011364</td>\n",
       "      <td>0.016374</td>\n",
       "      <td>0.011917</td>\n",
       "      <td>0.013525</td>\n",
       "      <td>0.083859</td>\n",
       "      <td>0.013174</td>\n",
       "      <td>0.010662</td>\n",
       "    </tr>\n",
       "    <tr>\n",
       "      <th>TheWatsonsByJaneAustenConcludedbyLOulton21</th>\n",
       "      <td>0.779244</td>\n",
       "      <td>0.693522</td>\n",
       "      <td>0.738438</td>\n",
       "      <td>0.013597</td>\n",
       "      <td>1.000000</td>\n",
       "      <td>0.697950</td>\n",
       "      <td>0.691161</td>\n",
       "      <td>0.608517</td>\n",
       "      <td>0.734217</td>\n",
       "      <td>0.714972</td>\n",
       "      <td>0.698814</td>\n",
       "      <td>0.640338</td>\n",
       "      <td>0.697437</td>\n",
       "      <td>0.792117</td>\n",
       "      <td>0.017694</td>\n",
       "      <td>0.700616</td>\n",
       "      <td>0.595781</td>\n",
       "    </tr>\n",
       "  </tbody>\n",
       "</table>\n",
       "</div>"
      ],
      "text/plain": [
       "                                               Emma1  TheLettersofJaneAusten8  \\\n",
       "Emma1                                       1.000001                 0.780336   \n",
       "TheLettersofJaneAusten8                     0.780336                 1.000000   \n",
       "PrideandPrejudice0                          0.835448                 0.780976   \n",
       "Emma7                                       0.012137                 0.023385   \n",
       "TheWatsonsByJaneAustenConcludedbyLOulton21  0.779244                 0.693522   \n",
       "\n",
       "                                            PrideandPrejudice0     Emma7  \\\n",
       "Emma1                                                 0.835448  0.012137   \n",
       "TheLettersofJaneAusten8                               0.780976  0.023385   \n",
       "PrideandPrejudice0                                    1.000000  0.011635   \n",
       "Emma7                                                 0.011635  1.000000   \n",
       "TheWatsonsByJaneAustenConcludedbyLOulton21            0.738438  0.013597   \n",
       "\n",
       "                                            TheWatsonsByJaneAustenConcludedbyLOulton21  \\\n",
       "Emma1                                                                         0.779244   \n",
       "TheLettersofJaneAusten8                                                       0.693522   \n",
       "PrideandPrejudice0                                                            0.738438   \n",
       "Emma7                                                                         0.013597   \n",
       "TheWatsonsByJaneAustenConcludedbyLOulton21                                    1.000000   \n",
       "\n",
       "                                            SenseandSensibility2  \\\n",
       "Emma1                                                   0.793158   \n",
       "TheLettersofJaneAusten8                                 0.738540   \n",
       "PrideandPrejudice0                                      0.808050   \n",
       "Emma7                                                   0.010794   \n",
       "TheWatsonsByJaneAustenConcludedbyLOulton21              0.697950   \n",
       "\n",
       "                                            NorthangerAbbey4  LadySusan12  \\\n",
       "Emma1                                               0.783473     0.693095   \n",
       "TheLettersofJaneAusten8                             0.748404     0.699407   \n",
       "PrideandPrejudice0                                  0.797822     0.738502   \n",
       "Emma7                                               0.014541     0.012787   \n",
       "TheWatsonsByJaneAustenConcludedbyLOulton21          0.691161     0.608517   \n",
       "\n",
       "                                            PrideandPrejudice6  \\\n",
       "Emma1                                                 0.840913   \n",
       "TheLettersofJaneAusten8                               0.775488   \n",
       "PrideandPrejudice0                                    0.994754   \n",
       "Emma7                                                 0.011163   \n",
       "TheWatsonsByJaneAustenConcludedbyLOulton21            0.734217   \n",
       "\n",
       "                                            OldFriendsandNewFanciesAnImaginarySequeltotheNovelsofJaneAusten24  \\\n",
       "Emma1                                                                                0.804997                   \n",
       "TheLettersofJaneAusten8                                                              0.742972                   \n",
       "PrideandPrejudice0                                                                   0.872431                   \n",
       "Emma7                                                                                0.010662                   \n",
       "TheWatsonsByJaneAustenConcludedbyLOulton21                                           0.714972                   \n",
       "\n",
       "                                            SenseandSensibility19  \\\n",
       "Emma1                                                    0.794122   \n",
       "TheLettersofJaneAusten8                                  0.741267   \n",
       "PrideandPrejudice0                                       0.808913   \n",
       "Emma7                                                    0.011364   \n",
       "TheWatsonsByJaneAustenConcludedbyLOulton21               0.698814   \n",
       "\n",
       "                                            LoveandFreindshipsic10  \\\n",
       "Emma1                                                     0.680979   \n",
       "TheLettersofJaneAusten8                                   0.717909   \n",
       "PrideandPrejudice0                                        0.728774   \n",
       "Emma7                                                     0.016374   \n",
       "TheWatsonsByJaneAustenConcludedbyLOulton21                0.640338   \n",
       "\n",
       "                                            Persuasion3  \\\n",
       "Emma1                                          0.788490   \n",
       "TheLettersofJaneAusten8                        0.736748   \n",
       "PrideandPrejudice0                             0.798141   \n",
       "Emma7                                          0.011917   \n",
       "TheWatsonsByJaneAustenConcludedbyLOulton21     0.697437   \n",
       "\n",
       "                                            TheCompleteProjectGutenbergWorksofJaneAusten18  \\\n",
       "Emma1                                                                             0.926976   \n",
       "TheLettersofJaneAusten8                                                           0.838947   \n",
       "PrideandPrejudice0                                                                0.922921   \n",
       "Emma7                                                                             0.013525   \n",
       "TheWatsonsByJaneAustenConcludedbyLOulton21                                        0.792117   \n",
       "\n",
       "                                            SenseandSensibility9  \\\n",
       "Emma1                                                   0.031162   \n",
       "TheLettersofJaneAusten8                                 0.025284   \n",
       "PrideandPrejudice0                                      0.029156   \n",
       "Emma7                                                   0.083859   \n",
       "TheWatsonsByJaneAustenConcludedbyLOulton21              0.017694   \n",
       "\n",
       "                                            MansfieldPark5  \\\n",
       "Emma1                                             0.803239   \n",
       "TheLettersofJaneAusten8                           0.772750   \n",
       "PrideandPrejudice0                                0.802615   \n",
       "Emma7                                             0.013174   \n",
       "TheWatsonsByJaneAustenConcludedbyLOulton21        0.700616   \n",
       "\n",
       "                                            PrideandPrejudiceaplayfoundedonJaneAustensnovel20  \n",
       "Emma1                                                                                0.700511  \n",
       "TheLettersofJaneAusten8                                                              0.671882  \n",
       "PrideandPrejudice0                                                                   0.851785  \n",
       "Emma7                                                                                0.010662  \n",
       "TheWatsonsByJaneAustenConcludedbyLOulton21                                           0.595781  "
      ]
     },
     "execution_count": 10,
     "metadata": {},
     "output_type": "execute_result"
    }
   ],
   "source": [
    "# compute similarity matrix\n",
    "\n",
    "sims = gensim.similarities.MatrixSimilarity(bows)\n",
    "\n",
    "# convert into DataFrame\n",
    "\n",
    "sim_df = pd.DataFrame(list(sims))\n",
    "\n",
    "# add labels of the books\n",
    "sim_df.columns = titles\n",
    "sim_df.index = titles\n",
    "\n",
    "# print matrix\n",
    "\n",
    "sim_df.head()\n"
   ]
  },
  {
   "cell_type": "markdown",
   "metadata": {},
   "source": [
    "### Most similar book to Pride and Prejudice 0"
   ]
  },
  {
   "cell_type": "code",
   "execution_count": 11,
   "metadata": {},
   "outputs": [
    {
     "data": {
      "text/plain": [
       "Text(0.5, 1.0, 'Similarity to Pride and Prejudice 0')"
      ]
     },
     "execution_count": 11,
     "metadata": {},
     "output_type": "execute_result"
    },
    {
     "data": {
      "image/png": "[encoded data removed]",
      "text/plain": [
       "<Figure size 640x480 with 1 Axes>"
      ]
     },
     "metadata": {},
     "output_type": "display_data"
    }
   ],
   "source": [
    "%matplotlib inline\n",
    "\n",
    "import matplotlib.pyplot as plt\n",
    "\n",
    "# select column\n",
    "v = sim_df['PrideandPrejudice0']\n",
    "\n",
    "# sort by score\n",
    "v_sorted = v.sort_values()\n",
    "\n",
    "# plot\n",
    "barplot = v_sorted.plot.barh()\n",
    "\n",
    "# add labels\n",
    "plt.xlabel('Similarity')\n",
    "plt.ylabel('Book')\n",
    "plt.title('Similarity to Pride and Prejudice 0')\n"
   ]
  },
  {
   "cell_type": "markdown",
   "metadata": {},
   "source": [
    "### Books with similar content"
   ]
  },
  {
   "cell_type": "code",
   "execution_count": 13,
   "metadata": {},
   "outputs": [
    {
     "data": {
      "image/png": "[encoded data removed]",
      "text/plain": [
       "<Figure size 640x480 with 1 Axes>"
      ]
     },
     "metadata": {},
     "output_type": "display_data"
    }
   ],
   "source": [
    "from scipy.cluster import hierarchy\n",
    "\n",
    "# compute clusters from similarity matriy using the Ward variance minimization algorithm\n",
    "Z = hierarchy.linkage(sim_df, method='ward')\n",
    "\n",
    "# vis\n",
    "a = hierarchy.dendrogram(Z,\n",
    "                         leaf_font_size = 8,\n",
    "                         labels = sim_df.index,\n",
    "                         orientation='left')"
   ]
  },
  {
   "cell_type": "code",
   "execution_count": null,
   "metadata": {},
   "outputs": [],
   "source": []
  }
 ],
 "metadata": {
  "kernelspec": {
   "display_name": ".venv",
   "language": "python",
   "name": "python3"
  },
  "language_info": {
   "codemirror_mode": {
    "name": "ipython",
    "version": 3
   },
   "file_extension": ".py",
   "mimetype": "text/x-python",
   "name": "python",
   "nbconvert_exporter": "python",
   "pygments_lexer": "ipython3",
   "version": "3.8.2"
  }
 },
 "nbformat": 4,
 "nbformat_minor": 2
}
